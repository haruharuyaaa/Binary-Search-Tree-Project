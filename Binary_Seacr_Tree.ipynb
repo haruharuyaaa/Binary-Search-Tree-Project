{
  "nbformat": 4,
  "nbformat_minor": 0,
  "metadata": {
    "colab": {
      "provenance": []
    },
    "kernelspec": {
      "name": "python3",
      "display_name": "Python 3"
    },
    "language_info": {
      "name": "python"
    }
  },
  "cells": [
    {
      "cell_type": "markdown",
      "source": [
        "[7, 5, 1, 8, 3, 6, 0, 9, 4, 2] dizisinin Binary-Search-Tree aşamalarını yazınız.\n",
        "\n",
        "                         5\n",
        "                      /     \\\n",
        "                    3        7\n",
        "                  /   \\    /   \\\n",
        "                 1     4  6     8\n",
        "               /   \\             \\\n",
        "              0     2             9\n",
        "              "
      ],
      "metadata": {
        "id": "qg701mYyGK9z"
      }
    }
  ]
}